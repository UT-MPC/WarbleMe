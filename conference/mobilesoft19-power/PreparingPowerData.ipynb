{
 "cells": [
  {
   "cell_type": "code",
   "execution_count": 1,
   "metadata": {},
   "outputs": [],
   "source": [
    "import pandas as pd\n",
    "import os"
   ]
  },
  {
   "cell_type": "code",
   "execution_count": 2,
   "metadata": {},
   "outputs": [],
   "source": [
    "df_1 = pd.read_csv(os.path.join('table', 'Trepn_Warble_2018.09.26_144349.csv'), delimiter=',')\n",
    "df_2 = pd.read_csv(os.path.join('table', 'Trepn_Warble_2018.09.26_142405.csv'), delimiter=',')\n",
    "df_3 = pd.read_csv(os.path.join('table', 'Trepn_Warble_2018.09.26_140554.csv'), delimiter=',')\n",
    "df_4 = pd.read_csv(os.path.join('table', 'Trepn_Warble_2018.09.26_134703.csv'), delimiter=',')\n",
    "# df_5 = pd.read_csv(os.path.join('table', 'Trepn_Warble_2018.09.26_133940.csv'), delimiter=',')\n",
    "# df_6 = pd.read_csv(os.path.join('table', 'Trepn_Warble_2018.09.26_131259.csv'), delimiter=',')\n",
    "# df_7 = pd.read_csv(os.path.join('table', 'Trepn_Warble_2018.09.25_155126.csv'), delimiter=',')"
   ]
  },
  {
   "cell_type": "code",
   "execution_count": 3,
   "metadata": {},
   "outputs": [],
   "source": [
    "df_list = [df_1, df_2, df_3, df_4]"
   ]
  },
  {
   "cell_type": "code",
   "execution_count": 4,
   "metadata": {},
   "outputs": [],
   "source": [
    "for i, df in enumerate(df_list):\n",
    "    df_list[i] = df[['Time  [ms].9', 'Battery Power* [uW]', 'Time  [ms].13', 'Description']]"
   ]
  },
  {
   "cell_type": "code",
   "execution_count": 5,
   "metadata": {},
   "outputs": [
    {
     "name": "stdout",
     "output_type": "stream",
     "text": [
      "178\n",
      "110\n",
      "1018\n",
      "171\n",
      "199\n",
      "124\n",
      "1757\n",
      "1746\n"
     ]
    }
   ],
   "source": [
    "for i, df in enumerate(df_list):\n",
    "    print(len(df_list[i]))\n",
    "    df_list[i] = df_list[i].dropna()\n",
    "    print(len(df_list[i]))"
   ]
  },
  {
   "cell_type": "markdown",
   "metadata": {},
   "source": [
    "df_list[0] is Warble<br>\n",
    "df_list[1] is Native<br>\n",
    "df_list[2] is Warble<br>\n",
    "df_list[3] is Native"
   ]
  },
  {
   "cell_type": "code",
   "execution_count": 6,
   "metadata": {},
   "outputs": [],
   "source": [
    "pd.set_option('display.max_rows', 10000)"
   ]
  },
  {
   "cell_type": "code",
   "execution_count": 7,
   "metadata": {},
   "outputs": [],
   "source": [
    "for i, df in enumerate(df_list):\n",
    "    df.to_csv('trepn_%s.csv' % i)"
   ]
  },
  {
   "cell_type": "markdown",
   "metadata": {},
   "source": [
    "for i, df in enumerate(df_list):\n",
    "    df.to_csv('trepn_%s.csv' % i)"
   ]
  }
 ],
 "metadata": {
  "kernelspec": {
   "display_name": "Python 3",
   "language": "python",
   "name": "python3"
  },
  "language_info": {
   "codemirror_mode": {
    "name": "ipython",
    "version": 3
   },
   "file_extension": ".py",
   "mimetype": "text/x-python",
   "name": "python",
   "nbconvert_exporter": "python",
   "pygments_lexer": "ipython3",
   "version": "3.7.1"
  }
 },
 "nbformat": 4,
 "nbformat_minor": 1
}
